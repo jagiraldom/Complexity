{
 "cells": [
  {
   "attachments": {},
   "cell_type": "markdown",
   "metadata": {},
   "source": [
    "# Designing some algorithms"
   ]
  },
  {
   "attachments": {},
   "cell_type": "markdown",
   "metadata": {},
   "source": [
    "### Insertion sort\n",
    "\n",
    "The idea is to take every element in the array and compare it with every other element on its left; if the element on the left is greater we swap them, in other case we leave it like that and continue with the next element in the original index"
   ]
  },
  {
   "attachments": {},
   "cell_type": "markdown",
   "metadata": {},
   "source": [
    "```\n",
    "Insertion sort (l:int array)\n",
    "    For each element l[i] with i>=2\n",
    "        For each j<i\n",
    "            If l[i] < l[j]\n",
    "                Swap l[i] and l[j]\n",
    "```"
   ]
  },
  {
   "attachments": {},
   "cell_type": "markdown",
   "metadata": {},
   "source": [
    "For each $i$ from $2$ to $len(l)$ we are swaping $l[i]$ at most $i-1$ times (swap takes constant time), therefore this algorithm has complexity $O(n^2)$"
   ]
  },
  {
   "attachments": {},
   "cell_type": "markdown",
   "metadata": {},
   "source": [
    "### First $n$ Fibonacci numbers\n",
    "\n",
    "We compute the Fibonacci numbers starting at $F_1 = 1$ and $F_2 = 1$ using the following rule: $F_n = F_{n-1}+F_{n_2}$"
   ]
  },
  {
   "attachments": {},
   "cell_type": "markdown",
   "metadata": {},
   "source": [
    "```\n",
    "Fibonacci (n: int >= 2)\n",
    "    partial_1 <- 1\n",
    "    partial_2 <- 1\n",
    "    temp <- 0\n",
    "    For each i in the range from 1 to n-1\n",
    "        temp <- partial_1\n",
    "        partial_1 <- partial_2\n",
    "        partial_2 <- partial_1 + temp\n",
    "```"
   ]
  },
  {
   "attachments": {},
   "cell_type": "markdown",
   "metadata": {},
   "source": [
    "The for loop goes on $n-1$ times doing a constant time instruction. This has complexity $O(n)$ "
   ]
  },
  {
   "attachments": {},
   "cell_type": "markdown",
   "metadata": {},
   "source": [
    "### Convex hull\n",
    "\n",
    "We need to find the smallest convex set in the real plane ($R^2$) that covers all the points that we have as input. Follow the next idea:\n",
    "\n",
    "- Draw a line between two points. This line divides the plane in two regions.\n",
    "- If all the point inhabit just one of the regions and the line, save that region. If not, continue.\n",
    "\n",
    "Go on with this procedure until finding the lines between every two points of the given input, and take the regions that satisfy the above condition.\n",
    "Intersect all of these regions, this is the convex hull\n",
    "\n",
    "This algorithm checks on $\\frac{n(n-1)}{2}$ posible lines. This has $O(n^2)$ complexity"
   ]
  }
 ],
 "metadata": {
  "kernelspec": {
   "display_name": "Python 3",
   "language": "python",
   "name": "python3"
  },
  "language_info": {
   "name": "python",
   "version": "3.11.1"
  },
  "orig_nbformat": 4,
  "vscode": {
   "interpreter": {
    "hash": "ed86cd87725ed3eb26236ff68aec3c2b48ba86ad759f4f31f53d096e39ba85b5"
   }
  }
 },
 "nbformat": 4,
 "nbformat_minor": 2
}
