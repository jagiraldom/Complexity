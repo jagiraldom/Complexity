{
 "cells": [
  {
   "attachments": {},
   "cell_type": "markdown",
   "id": "2808fdf9",
   "metadata": {},
   "source": [
    "# Sorting\n",
    "\n",
    "In this notebook we will present the implementation of 3 sorting algorithms with the objective of identifying the advantages between one algorithm and another with respect to their time complexity and space complexity. "
   ]
  },
  {
   "cell_type": "code",
   "execution_count": 33,
   "id": "b46b410f",
   "metadata": {},
   "outputs": [],
   "source": [
    "import time\n",
    "import numpy as np\n",
    "np.random.seed(56)"
   ]
  },
  {
   "cell_type": "code",
   "execution_count": 34,
   "id": "881e765c",
   "metadata": {},
   "outputs": [],
   "source": [
    "data = np.random.randint(1,10000,17000) # test for insertion\n",
    "data_1 = data.copy() # test for merge\n",
    "data_2 = data.copy() # test for bubble\n",
    "check = data.copy()  # to test results with built-in sort"
   ]
  },
  {
   "cell_type": "markdown",
   "id": "7dbcaac0",
   "metadata": {},
   "source": [
    "### Insertion Sort"
   ]
  },
  {
   "cell_type": "code",
   "execution_count": 35,
   "id": "b04ff63f",
   "metadata": {},
   "outputs": [],
   "source": [
    "def insertion_sort(arr):\n",
    "    \"\"\"\n",
    "    Sort the input array (inplace)\n",
    "    \"\"\"\n",
    "    for i in range(1, arr.size):       # Go through every element of the array starting on the 2nd position\n",
    "        j = i                          # Start checking at position i \n",
    "        while j>0 and arr[j-1]>arr[j]: # Compare it with the elements on the left\n",
    "                temp = arr[j-1]        # Now swap the initial value arr[i] with each element to the left if it is greater than it\n",
    "                arr[j-1] = arr[j]\n",
    "                arr[j] = temp\n",
    "                j -= 1\n",
    "    "
   ]
  },
  {
   "cell_type": "code",
   "execution_count": 36,
   "id": "08602343",
   "metadata": {},
   "outputs": [],
   "source": [
    "def insertion_algorithm(arr):\n",
    "    \"\"\"\n",
    "    Test insertion sort algorithm for big input\n",
    "    \"\"\"\n",
    "    start = time.time()\n",
    "    s = insertion_sort(arr)\n",
    "    end = time.time()\n",
    "    print(\"The time of execution of above program is :\", (end-start) * 10**3, \"ms\", \"for a size of \", len(arr))"
   ]
  },
  {
   "cell_type": "code",
   "execution_count": 37,
   "id": "938bce08",
   "metadata": {},
   "outputs": [
    {
     "name": "stdout",
     "output_type": "stream",
     "text": [
      "The time of execution of above program is : 24739.789485931396 ms for a size of  17000\n"
     ]
    }
   ],
   "source": [
    "insertion_algorithm(data)"
   ]
  },
  {
   "cell_type": "markdown",
   "id": "660c72b1",
   "metadata": {},
   "source": [
    "### Merge Sort"
   ]
  },
  {
   "attachments": {},
   "cell_type": "markdown",
   "id": "d78d1ec2",
   "metadata": {},
   "source": [
    "The following implementation of the merge sort algorithm is based on the analysis made in the reference book \"Introduction to Algorithms\""
   ]
  },
  {
   "cell_type": "code",
   "execution_count": 38,
   "id": "be1f26ca",
   "metadata": {},
   "outputs": [],
   "source": [
    "def merge(arr:np.array, start, mid, end):\n",
    "    \"\"\"\n",
    "    Auxiliar function to merge two arrays preserving the order\n",
    "    \"\"\"\n",
    "    n = mid-start+1 # length of left array\n",
    "    m = end-mid     # length of right array\n",
    "    \n",
    "    L = np.array([arr[start+i] for i in range(n)]) \n",
    "    R = np.array([arr[mid+i+1] for i in range(m)])\n",
    "\n",
    "    i = 0\n",
    "    j = 0\n",
    "    k = start\n",
    "    # Take two sorted arrays and merge them preserving the order\n",
    "    while i<n and j<m:\n",
    "        if L[i] <= R[j]:\n",
    "            arr[k] = L[i]\n",
    "            i += 1\n",
    "        else:\n",
    "            arr[k] = R[j]\n",
    "            j += 1\n",
    "        k += 1\n",
    "\n",
    "    while i < n:\n",
    "        arr[k] = L[i]\n",
    "        i += 1\n",
    "        k += 1\n",
    "    while j < m:\n",
    "        arr[k] = R[j]\n",
    "        j += 1\n",
    "        k += 1\n",
    "\n",
    "def merge_sort(arr:np.array, start, end):\n",
    "    \"\"\"\n",
    "    Sort the input array (inplace)\n",
    "    \"\"\"\n",
    "    if start < end: # Divide the problem in half\n",
    "        mid = (start+end)//2\n",
    "        merge_sort(arr, start, mid)\n",
    "        merge_sort(arr, mid+1, end)\n",
    "        merge(arr, start, mid, end)"
   ]
  },
  {
   "cell_type": "code",
   "execution_count": 39,
   "id": "aed116e6",
   "metadata": {},
   "outputs": [],
   "source": [
    "def merge_algorithm(arr):\n",
    "    \"\"\"\n",
    "    Test merge sort algorithm for big input\n",
    "    \"\"\"\n",
    "    start = time.time()\n",
    "    s = merge_sort(arr, 0, arr.size-1)\n",
    "    end = time.time()\n",
    "    print(\"The time of execution of above program is :\", (end-start) * 10**3, \"ms\", \"for a size of \", len(arr))"
   ]
  },
  {
   "cell_type": "code",
   "execution_count": 40,
   "id": "65df9aa5",
   "metadata": {},
   "outputs": [
    {
     "name": "stdout",
     "output_type": "stream",
     "text": [
      "The time of execution of above program is : 139.0388011932373 ms for a size of  17000\n"
     ]
    }
   ],
   "source": [
    "merge_algorithm(data_1)\n"
   ]
  },
  {
   "attachments": {},
   "cell_type": "markdown",
   "id": "5c9856f5",
   "metadata": {},
   "source": [
    "This algorithm has time complexity $O(nlog(n))$ because it reduces the problem by powers of 2. And we are using a copy of each element of the array in the merge step, therefore this algorithm has space complexity $O(n)$."
   ]
  },
  {
   "attachments": {},
   "cell_type": "markdown",
   "id": "9d4798e7",
   "metadata": {},
   "source": [
    "### Bubble sort"
   ]
  },
  {
   "cell_type": "code",
   "execution_count": 41,
   "id": "8642b91f",
   "metadata": {},
   "outputs": [],
   "source": [
    "def bubble_sort(arr:np.array):\n",
    "    \"\"\"\n",
    "    Sort the input array (inplace)\n",
    "    \"\"\"\n",
    "    n = arr.size\n",
    "    for i in range(n):             # Go through each position\n",
    "        for j in range(n-i-1):     # Check consecutive pairs from start to end until n-i-1\n",
    "            if arr[j+1] < arr[j]:  # Swap consecutive pairs to set order\n",
    "                temp = arr[j]\n",
    "                arr[j] = arr[j+1]\n",
    "                arr[j+1] = temp\n",
    "            \n"
   ]
  },
  {
   "cell_type": "code",
   "execution_count": 42,
   "id": "9f9938ea",
   "metadata": {},
   "outputs": [],
   "source": [
    "def bubble_algorithm(arr):\n",
    "    \"\"\"\n",
    "    Test bubble  sort algorithm for big input\n",
    "    \"\"\"\n",
    "    start = time.time()\n",
    "    s = bubble_sort(arr)\n",
    "    end = time.time()\n",
    "    print(\"The time of execution of above program is :\", (end-start) * 10**3, \"ms\", \"for a size of \", len(arr))"
   ]
  },
  {
   "cell_type": "code",
   "execution_count": 43,
   "id": "4d6a79cf",
   "metadata": {},
   "outputs": [
    {
     "name": "stdout",
     "output_type": "stream",
     "text": [
      "The time of execution of above program is : 33135.5299949646 ms for a size of  17000\n"
     ]
    }
   ],
   "source": [
    "bubble_algorithm(data_2)"
   ]
  },
  {
   "attachments": {},
   "cell_type": "markdown",
   "id": "321f70c2",
   "metadata": {},
   "source": [
    "### Testing"
   ]
  },
  {
   "cell_type": "code",
   "execution_count": 45,
   "id": "43562117",
   "metadata": {},
   "outputs": [
    {
     "name": "stdout",
     "output_type": "stream",
     "text": [
      "True True True\n"
     ]
    }
   ],
   "source": [
    "# A small test\n",
    "check.sort()\n",
    "Insertion_test = np.array_equal(check, data)\n",
    "Merge_test = np.array_equal(check, data_1)\n",
    "Bubble_test = np.array_equal(check, data_2)\n",
    "print(Insertion_test, Merge_test, Bubble_test)"
   ]
  },
  {
   "cell_type": "markdown",
   "id": "7a20750b",
   "metadata": {},
   "source": [
    "### Conclusions\n",
    "\n",
    "So, the algorithm matters! Even when the result is the same, the time it takes is important. We are in the era of Big Data, if we are not careful, some processing might take centuries!"
   ]
  }
 ],
 "metadata": {
  "kernelspec": {
   "display_name": "Python 3",
   "language": "python",
   "name": "python3"
  },
  "language_info": {
   "codemirror_mode": {
    "name": "ipython",
    "version": 3
   },
   "file_extension": ".py",
   "mimetype": "text/x-python",
   "name": "python",
   "nbconvert_exporter": "python",
   "pygments_lexer": "ipython3",
   "version": "3.11.1"
  },
  "vscode": {
   "interpreter": {
    "hash": "ed86cd87725ed3eb26236ff68aec3c2b48ba86ad759f4f31f53d096e39ba85b5"
   }
  }
 },
 "nbformat": 4,
 "nbformat_minor": 5
}
